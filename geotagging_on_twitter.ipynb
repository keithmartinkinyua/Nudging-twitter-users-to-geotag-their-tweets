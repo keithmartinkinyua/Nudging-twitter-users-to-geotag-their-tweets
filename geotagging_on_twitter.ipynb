{
 "cells": [
  {
   "cell_type": "code",
   "execution_count": 2,
   "metadata": {},
   "outputs": [],
   "source": [
    "import json\n",
    "import pandas as pd\n",
    "import matplotlib.pyplot as plt"
   ]
  },
  {
   "cell_type": "code",
   "execution_count": 3,
   "metadata": {},
   "outputs": [],
   "source": [
    "tweets_data_path = 'Desktop/twitter_data.txt'\n",
    "\n",
    "tweets_data = []\n",
    "tweets_file = open(tweets_data_path, \"r\")\n",
    "for line in tweets_file:\n",
    "    try:\n",
    "        tweet = json.loads(line)\n",
    "        tweets_data.append(tweet)\n",
    "    except:\n",
    "        continue"
   ]
  },
  {
   "cell_type": "code",
   "execution_count": 71,
   "metadata": {},
   "outputs": [
    {
     "name": "stdout",
     "output_type": "stream",
     "text": [
      "1643\n"
     ]
    }
   ],
   "source": [
    "print(len(tweets_data))\n"
   ]
  },
  {
   "cell_type": "code",
   "execution_count": 86,
   "metadata": {},
   "outputs": [],
   "source": [
    "tweets = pd.DataFrame()"
   ]
  },
  {
   "cell_type": "code",
   "execution_count": 113,
   "metadata": {},
   "outputs": [
    {
     "name": "stdout",
     "output_type": "stream",
     "text": [
      "                                text                            lang  \\\n",
      "0     <map object at 0x7f1fc4fa3da0>  <map object at 0x7f1fd4703da0>   \n",
      "1     <map object at 0x7f1fc4fa3da0>  <map object at 0x7f1fd4703da0>   \n",
      "2     <map object at 0x7f1fc4fa3da0>  <map object at 0x7f1fd4703da0>   \n",
      "3     <map object at 0x7f1fc4fa3da0>  <map object at 0x7f1fd4703da0>   \n",
      "4     <map object at 0x7f1fc4fa3da0>  <map object at 0x7f1fd4703da0>   \n",
      "5     <map object at 0x7f1fc4fa3da0>  <map object at 0x7f1fd4703da0>   \n",
      "6     <map object at 0x7f1fc4fa3da0>  <map object at 0x7f1fd4703da0>   \n",
      "7     <map object at 0x7f1fc4fa3da0>  <map object at 0x7f1fd4703da0>   \n",
      "8     <map object at 0x7f1fc4fa3da0>  <map object at 0x7f1fd4703da0>   \n",
      "9     <map object at 0x7f1fc4fa3da0>  <map object at 0x7f1fd4703da0>   \n",
      "10    <map object at 0x7f1fc4fa3da0>  <map object at 0x7f1fd4703da0>   \n",
      "11    <map object at 0x7f1fc4fa3da0>  <map object at 0x7f1fd4703da0>   \n",
      "12    <map object at 0x7f1fc4fa3da0>  <map object at 0x7f1fd4703da0>   \n",
      "13    <map object at 0x7f1fc4fa3da0>  <map object at 0x7f1fd4703da0>   \n",
      "14    <map object at 0x7f1fc4fa3da0>  <map object at 0x7f1fd4703da0>   \n",
      "15    <map object at 0x7f1fc4fa3da0>  <map object at 0x7f1fd4703da0>   \n",
      "16    <map object at 0x7f1fc4fa3da0>  <map object at 0x7f1fd4703da0>   \n",
      "17    <map object at 0x7f1fc4fa3da0>  <map object at 0x7f1fd4703da0>   \n",
      "18    <map object at 0x7f1fc4fa3da0>  <map object at 0x7f1fd4703da0>   \n",
      "19    <map object at 0x7f1fc4fa3da0>  <map object at 0x7f1fd4703da0>   \n",
      "20    <map object at 0x7f1fc4fa3da0>  <map object at 0x7f1fd4703da0>   \n",
      "21    <map object at 0x7f1fc4fa3da0>  <map object at 0x7f1fd4703da0>   \n",
      "22    <map object at 0x7f1fc4fa3da0>  <map object at 0x7f1fd4703da0>   \n",
      "23    <map object at 0x7f1fc4fa3da0>  <map object at 0x7f1fd4703da0>   \n",
      "24    <map object at 0x7f1fc4fa3da0>  <map object at 0x7f1fd4703da0>   \n",
      "25    <map object at 0x7f1fc4fa3da0>  <map object at 0x7f1fd4703da0>   \n",
      "26    <map object at 0x7f1fc4fa3da0>  <map object at 0x7f1fd4703da0>   \n",
      "27    <map object at 0x7f1fc4fa3da0>  <map object at 0x7f1fd4703da0>   \n",
      "28    <map object at 0x7f1fc4fa3da0>  <map object at 0x7f1fd4703da0>   \n",
      "29    <map object at 0x7f1fc4fa3da0>  <map object at 0x7f1fd4703da0>   \n",
      "...                              ...                             ...   \n",
      "1613  <map object at 0x7f1fc4fa3da0>  <map object at 0x7f1fd4703da0>   \n",
      "1614  <map object at 0x7f1fc4fa3da0>  <map object at 0x7f1fd4703da0>   \n",
      "1615  <map object at 0x7f1fc4fa3da0>  <map object at 0x7f1fd4703da0>   \n",
      "1616  <map object at 0x7f1fc4fa3da0>  <map object at 0x7f1fd4703da0>   \n",
      "1617  <map object at 0x7f1fc4fa3da0>  <map object at 0x7f1fd4703da0>   \n",
      "1618  <map object at 0x7f1fc4fa3da0>  <map object at 0x7f1fd4703da0>   \n",
      "1619  <map object at 0x7f1fc4fa3da0>  <map object at 0x7f1fd4703da0>   \n",
      "1620  <map object at 0x7f1fc4fa3da0>  <map object at 0x7f1fd4703da0>   \n",
      "1621  <map object at 0x7f1fc4fa3da0>  <map object at 0x7f1fd4703da0>   \n",
      "1622  <map object at 0x7f1fc4fa3da0>  <map object at 0x7f1fd4703da0>   \n",
      "1623  <map object at 0x7f1fc4fa3da0>  <map object at 0x7f1fd4703da0>   \n",
      "1624  <map object at 0x7f1fc4fa3da0>  <map object at 0x7f1fd4703da0>   \n",
      "1625  <map object at 0x7f1fc4fa3da0>  <map object at 0x7f1fd4703da0>   \n",
      "1626  <map object at 0x7f1fc4fa3da0>  <map object at 0x7f1fd4703da0>   \n",
      "1627  <map object at 0x7f1fc4fa3da0>  <map object at 0x7f1fd4703da0>   \n",
      "1628  <map object at 0x7f1fc4fa3da0>  <map object at 0x7f1fd4703da0>   \n",
      "1629  <map object at 0x7f1fc4fa3da0>  <map object at 0x7f1fd4703da0>   \n",
      "1630  <map object at 0x7f1fc4fa3da0>  <map object at 0x7f1fd4703da0>   \n",
      "1631  <map object at 0x7f1fc4fa3da0>  <map object at 0x7f1fd4703da0>   \n",
      "1632  <map object at 0x7f1fc4fa3da0>  <map object at 0x7f1fd4703da0>   \n",
      "1633  <map object at 0x7f1fc4fa3da0>  <map object at 0x7f1fd4703da0>   \n",
      "1634  <map object at 0x7f1fc4fa3da0>  <map object at 0x7f1fd4703da0>   \n",
      "1635  <map object at 0x7f1fc4fa3da0>  <map object at 0x7f1fd4703da0>   \n",
      "1636  <map object at 0x7f1fc4fa3da0>  <map object at 0x7f1fd4703da0>   \n",
      "1637  <map object at 0x7f1fc4fa3da0>  <map object at 0x7f1fd4703da0>   \n",
      "1638  <map object at 0x7f1fc4fa3da0>  <map object at 0x7f1fd4703da0>   \n",
      "1639  <map object at 0x7f1fc4fa3da0>  <map object at 0x7f1fd4703da0>   \n",
      "1640  <map object at 0x7f1fc4fa3da0>  <map object at 0x7f1fd4703da0>   \n",
      "1641  <map object at 0x7f1fc4fa3da0>  <map object at 0x7f1fd4703da0>   \n",
      "1642  <map object at 0x7f1fc4fa3da0>  <map object at 0x7f1fd4703da0>   \n",
      "\n",
      "                             country                           place  \\\n",
      "0     <map object at 0x7f1fc587fa20>  <map object at 0x7f1fc587f1d0>   \n",
      "1     <map object at 0x7f1fc587fa20>  <map object at 0x7f1fc587f1d0>   \n",
      "2     <map object at 0x7f1fc587fa20>  <map object at 0x7f1fc587f1d0>   \n",
      "3     <map object at 0x7f1fc587fa20>  <map object at 0x7f1fc587f1d0>   \n",
      "4     <map object at 0x7f1fc587fa20>  <map object at 0x7f1fc587f1d0>   \n",
      "5     <map object at 0x7f1fc587fa20>  <map object at 0x7f1fc587f1d0>   \n",
      "6     <map object at 0x7f1fc587fa20>  <map object at 0x7f1fc587f1d0>   \n",
      "7     <map object at 0x7f1fc587fa20>  <map object at 0x7f1fc587f1d0>   \n",
      "8     <map object at 0x7f1fc587fa20>  <map object at 0x7f1fc587f1d0>   \n",
      "9     <map object at 0x7f1fc587fa20>  <map object at 0x7f1fc587f1d0>   \n",
      "10    <map object at 0x7f1fc587fa20>  <map object at 0x7f1fc587f1d0>   \n",
      "11    <map object at 0x7f1fc587fa20>  <map object at 0x7f1fc587f1d0>   \n",
      "12    <map object at 0x7f1fc587fa20>  <map object at 0x7f1fc587f1d0>   \n",
      "13    <map object at 0x7f1fc587fa20>  <map object at 0x7f1fc587f1d0>   \n",
      "14    <map object at 0x7f1fc587fa20>  <map object at 0x7f1fc587f1d0>   \n",
      "15    <map object at 0x7f1fc587fa20>  <map object at 0x7f1fc587f1d0>   \n",
      "16    <map object at 0x7f1fc587fa20>  <map object at 0x7f1fc587f1d0>   \n",
      "17    <map object at 0x7f1fc587fa20>  <map object at 0x7f1fc587f1d0>   \n",
      "18    <map object at 0x7f1fc587fa20>  <map object at 0x7f1fc587f1d0>   \n",
      "19    <map object at 0x7f1fc587fa20>  <map object at 0x7f1fc587f1d0>   \n",
      "20    <map object at 0x7f1fc587fa20>  <map object at 0x7f1fc587f1d0>   \n",
      "21    <map object at 0x7f1fc587fa20>  <map object at 0x7f1fc587f1d0>   \n",
      "22    <map object at 0x7f1fc587fa20>  <map object at 0x7f1fc587f1d0>   \n",
      "23    <map object at 0x7f1fc587fa20>  <map object at 0x7f1fc587f1d0>   \n",
      "24    <map object at 0x7f1fc587fa20>  <map object at 0x7f1fc587f1d0>   \n",
      "25    <map object at 0x7f1fc587fa20>  <map object at 0x7f1fc587f1d0>   \n",
      "26    <map object at 0x7f1fc587fa20>  <map object at 0x7f1fc587f1d0>   \n",
      "27    <map object at 0x7f1fc587fa20>  <map object at 0x7f1fc587f1d0>   \n",
      "28    <map object at 0x7f1fc587fa20>  <map object at 0x7f1fc587f1d0>   \n",
      "29    <map object at 0x7f1fc587fa20>  <map object at 0x7f1fc587f1d0>   \n",
      "...                              ...                             ...   \n",
      "1613  <map object at 0x7f1fc587fa20>  <map object at 0x7f1fc587f1d0>   \n",
      "1614  <map object at 0x7f1fc587fa20>  <map object at 0x7f1fc587f1d0>   \n",
      "1615  <map object at 0x7f1fc587fa20>  <map object at 0x7f1fc587f1d0>   \n",
      "1616  <map object at 0x7f1fc587fa20>  <map object at 0x7f1fc587f1d0>   \n",
      "1617  <map object at 0x7f1fc587fa20>  <map object at 0x7f1fc587f1d0>   \n",
      "1618  <map object at 0x7f1fc587fa20>  <map object at 0x7f1fc587f1d0>   \n",
      "1619  <map object at 0x7f1fc587fa20>  <map object at 0x7f1fc587f1d0>   \n",
      "1620  <map object at 0x7f1fc587fa20>  <map object at 0x7f1fc587f1d0>   \n",
      "1621  <map object at 0x7f1fc587fa20>  <map object at 0x7f1fc587f1d0>   \n",
      "1622  <map object at 0x7f1fc587fa20>  <map object at 0x7f1fc587f1d0>   \n",
      "1623  <map object at 0x7f1fc587fa20>  <map object at 0x7f1fc587f1d0>   \n",
      "1624  <map object at 0x7f1fc587fa20>  <map object at 0x7f1fc587f1d0>   \n",
      "1625  <map object at 0x7f1fc587fa20>  <map object at 0x7f1fc587f1d0>   \n",
      "1626  <map object at 0x7f1fc587fa20>  <map object at 0x7f1fc587f1d0>   \n",
      "1627  <map object at 0x7f1fc587fa20>  <map object at 0x7f1fc587f1d0>   \n",
      "1628  <map object at 0x7f1fc587fa20>  <map object at 0x7f1fc587f1d0>   \n",
      "1629  <map object at 0x7f1fc587fa20>  <map object at 0x7f1fc587f1d0>   \n",
      "1630  <map object at 0x7f1fc587fa20>  <map object at 0x7f1fc587f1d0>   \n",
      "1631  <map object at 0x7f1fc587fa20>  <map object at 0x7f1fc587f1d0>   \n",
      "1632  <map object at 0x7f1fc587fa20>  <map object at 0x7f1fc587f1d0>   \n",
      "1633  <map object at 0x7f1fc587fa20>  <map object at 0x7f1fc587f1d0>   \n",
      "1634  <map object at 0x7f1fc587fa20>  <map object at 0x7f1fc587f1d0>   \n",
      "1635  <map object at 0x7f1fc587fa20>  <map object at 0x7f1fc587f1d0>   \n",
      "1636  <map object at 0x7f1fc587fa20>  <map object at 0x7f1fc587f1d0>   \n",
      "1637  <map object at 0x7f1fc587fa20>  <map object at 0x7f1fc587f1d0>   \n",
      "1638  <map object at 0x7f1fc587fa20>  <map object at 0x7f1fc587f1d0>   \n",
      "1639  <map object at 0x7f1fc587fa20>  <map object at 0x7f1fc587f1d0>   \n",
      "1640  <map object at 0x7f1fc587fa20>  <map object at 0x7f1fc587f1d0>   \n",
      "1641  <map object at 0x7f1fc587fa20>  <map object at 0x7f1fc587f1d0>   \n",
      "1642  <map object at 0x7f1fc587fa20>  <map object at 0x7f1fc587f1d0>   \n",
      "\n",
      "                           followers  \n",
      "0     <map object at 0x7f1fd460ddd8>  \n",
      "1     <map object at 0x7f1fd460ddd8>  \n",
      "2     <map object at 0x7f1fd460ddd8>  \n",
      "3     <map object at 0x7f1fd460ddd8>  \n",
      "4     <map object at 0x7f1fd460ddd8>  \n",
      "5     <map object at 0x7f1fd460ddd8>  \n",
      "6     <map object at 0x7f1fd460ddd8>  \n",
      "7     <map object at 0x7f1fd460ddd8>  \n",
      "8     <map object at 0x7f1fd460ddd8>  \n",
      "9     <map object at 0x7f1fd460ddd8>  \n",
      "10    <map object at 0x7f1fd460ddd8>  \n",
      "11    <map object at 0x7f1fd460ddd8>  \n",
      "12    <map object at 0x7f1fd460ddd8>  \n",
      "13    <map object at 0x7f1fd460ddd8>  \n",
      "14    <map object at 0x7f1fd460ddd8>  \n",
      "15    <map object at 0x7f1fd460ddd8>  \n",
      "16    <map object at 0x7f1fd460ddd8>  \n",
      "17    <map object at 0x7f1fd460ddd8>  \n",
      "18    <map object at 0x7f1fd460ddd8>  \n",
      "19    <map object at 0x7f1fd460ddd8>  \n",
      "20    <map object at 0x7f1fd460ddd8>  \n",
      "21    <map object at 0x7f1fd460ddd8>  \n",
      "22    <map object at 0x7f1fd460ddd8>  \n",
      "23    <map object at 0x7f1fd460ddd8>  \n",
      "24    <map object at 0x7f1fd460ddd8>  \n",
      "25    <map object at 0x7f1fd460ddd8>  \n",
      "26    <map object at 0x7f1fd460ddd8>  \n",
      "27    <map object at 0x7f1fd460ddd8>  \n",
      "28    <map object at 0x7f1fd460ddd8>  \n",
      "29    <map object at 0x7f1fd460ddd8>  \n",
      "...                              ...  \n",
      "1613  <map object at 0x7f1fd460ddd8>  \n",
      "1614  <map object at 0x7f1fd460ddd8>  \n",
      "1615  <map object at 0x7f1fd460ddd8>  \n",
      "1616  <map object at 0x7f1fd460ddd8>  \n",
      "1617  <map object at 0x7f1fd460ddd8>  \n",
      "1618  <map object at 0x7f1fd460ddd8>  \n",
      "1619  <map object at 0x7f1fd460ddd8>  \n",
      "1620  <map object at 0x7f1fd460ddd8>  \n",
      "1621  <map object at 0x7f1fd460ddd8>  \n",
      "1622  <map object at 0x7f1fd460ddd8>  \n",
      "1623  <map object at 0x7f1fd460ddd8>  \n",
      "1624  <map object at 0x7f1fd460ddd8>  \n",
      "1625  <map object at 0x7f1fd460ddd8>  \n",
      "1626  <map object at 0x7f1fd460ddd8>  \n",
      "1627  <map object at 0x7f1fd460ddd8>  \n",
      "1628  <map object at 0x7f1fd460ddd8>  \n",
      "1629  <map object at 0x7f1fd460ddd8>  \n",
      "1630  <map object at 0x7f1fd460ddd8>  \n",
      "1631  <map object at 0x7f1fd460ddd8>  \n",
      "1632  <map object at 0x7f1fd460ddd8>  \n",
      "1633  <map object at 0x7f1fd460ddd8>  \n",
      "1634  <map object at 0x7f1fd460ddd8>  \n",
      "1635  <map object at 0x7f1fd460ddd8>  \n",
      "1636  <map object at 0x7f1fd460ddd8>  \n",
      "1637  <map object at 0x7f1fd460ddd8>  \n",
      "1638  <map object at 0x7f1fd460ddd8>  \n",
      "1639  <map object at 0x7f1fd460ddd8>  \n",
      "1640  <map object at 0x7f1fd460ddd8>  \n",
      "1641  <map object at 0x7f1fd460ddd8>  \n",
      "1642  <map object at 0x7f1fd460ddd8>  \n",
      "\n",
      "[1643 rows x 5 columns]\n"
     ]
    }
   ],
   "source": [
    "#tweets['text'] = map(lambda tweet: tweets_data['location'], tweets_data)\n",
    "#tweets['country'] = map(lambda tweet: tweet_data['location'], tweets_data)\n",
    "#tweets['user_id'] = map(lambda tweet: tweets_data['user_id'], tweets_data)\n",
    "#tweets['followers'] = map(lambda tweet: tweets_data['followers_count'], tweets_data)\n",
    "#tweets['nowhere'] = map(lambda tweet: tweets_data['location']['location'], tweets_data)\n",
    "\n",
    "#tweets['country'] = map(lambda tweet: tweet['place']['country'] if tweet['place'] != None else None, tweets_data)\n",
    "\n",
    "tweets['text'] = map(lambda tweet: tweet['text'], tweets_data)\n",
    "tweets['country'] = map(lambda tweet: tweet['place']['country']['kenya'] if tweet['place'] != None else None, tweets_data)\n",
    "tweets['place'] = map(lambda tweet: tweet['place'], tweets_data)\n",
    "tweets['followers'] = map(lambda tweet: tweet['followers'], tweets_data)\n",
    "\n",
    "\n",
    "\n",
    "\n",
    "print(tweets)"
   ]
  },
  {
   "cell_type": "code",
   "execution_count": 110,
   "metadata": {},
   "outputs": [
    {
     "data": {
      "text/plain": [
       "<matplotlib.axes._subplots.AxesSubplot at 0x7f1fc4e92160>"
      ]
     },
     "execution_count": 110,
     "metadata": {},
     "output_type": "execute_result"
    },
    {
     "data": {
      "image/png": "[encoded data removed]",
      "text/plain": [
       "<Figure size 432x288 with 1 Axes>"
      ]
     },
     "metadata": {},
     "output_type": "display_data"
    }
   ],
   "source": [
    "tweets_by_country = tweets['followers'].value_counts()\n",
    "\n",
    "#type(tweets_by_lang)\n",
    "\n",
    "fig, ax = plt.subplots()\n",
    "ax.tick_params(axis='x', labelsize=15)\n",
    "ax.tick_params(axis='y', labelsize=10)\n",
    "ax.set_xlabel('nairobi', fontsize=15)\n",
    "ax.set_ylabel('number of tweets' , fontsize=15)\n",
    "ax.set_title('', fontsize=15, fontweight='bold')\n",
    "tweets_by_lang[:5].plot(ax=ax, kind='bar', color='red')"
   ]
  },
  {
   "cell_type": "code",
   "execution_count": 65,
   "metadata": {},
   "outputs": [
    {
     "data": {
      "text/plain": [
       "<matplotlib.axes._subplots.AxesSubplot at 0x7f1fd46964a8>"
      ]
     },
     "execution_count": 65,
     "metadata": {},
     "output_type": "execute_result"
    },
    {
     "data": {
      "image/png": "[encoded data removed]",
      "text/plain": [
       "<Figure size 432x288 with 1 Axes>"
      ]
     },
     "metadata": {},
     "output_type": "display_data"
    }
   ],
   "source": [
    "tweets_by_country = tweets['country'].value_counts()\n",
    "\n",
    "fig, ax = plt.subplots()\n",
    "ax.tick_params(axis='x', labelsize=15)\n",
    "ax.tick_params(axis='y', labelsize=10)\n",
    "ax.set_xlabel('Countries', fontsize=15)\n",
    "ax.set_ylabel('Number of tweets' , fontsize=15)\n",
    "ax.set_title('', fontsize=15, fontweight='bold')\n",
    "tweets_by_country[:5].plot(ax=ax, kind='bar', color='blue')"
   ]
  },
  {
   "cell_type": "code",
   "execution_count": 117,
   "metadata": {},
   "outputs": [
    {
     "ename": "ValueError",
     "evalue": "could not convert string to float: '0       <map object at 0x7f1fc587fa20>\\n1       <map object at 0x7f1fc587fa20>\\n2       <map object at 0x7f1fc587fa20>\\n3       <map object at 0x7f1fc587fa20>\\n4       <map object at 0x7f1fc587fa20>\\n5       <map object at 0x7f1fc587fa20>\\n6       <map object at 0x7f1fc587fa20>\\n7       <map object at 0x7f1fc587fa20>\\n8       <map object at 0x7f1fc587fa20>\\n9       <map object at 0x7f1fc587fa20>\\n10      <map object at 0x7f1fc587fa20>\\n11      <map object at 0x7f1fc587fa20>\\n12      <map object at 0x7f1fc587fa20>\\n13      <map object at 0x7f1fc587fa20>\\n14      <map object at 0x7f1fc587fa20>\\n15      <map object at 0x7f1fc587fa20>\\n16      <map object at 0x7f1fc587fa20>\\n17      <map object at 0x7f1fc587fa20>\\n18      <map object at 0x7f1fc587fa20>\\n19      <map object at 0x7f1fc587fa20>\\n20      <map object at 0x7f1fc587fa20>\\n21      <map object at 0x7f1fc587fa20>\\n22      <map object at 0x7f1fc587fa20>\\n23      <map object at 0x7f1fc587fa20>\\n24      <map object at 0x7f1fc587fa20>\\n25      <map object at 0x7f1fc587fa20>\\n26      <map object at 0x7f1fc587fa20>\\n27      <map object at 0x7f1fc587fa20>\\n28      <map object at 0x7f1fc587fa20>\\n29      <map object at 0x7f1fc587fa20>\\n                     ...              \\n1613    <map object at 0x7f1fc587fa20>\\n1614    <map object at 0x7f1fc587fa20>\\n1615    <map object at 0x7f1fc587fa20>\\n1616    <map object at 0x7f1fc587fa20>\\n1617    <map object at 0x7f1fc587fa20>\\n1618    <map object at 0x7f1fc587fa20>\\n1619    <map object at 0x7f1fc587fa20>\\n1620    <map object at 0x7f1fc587fa20>\\n1621    <map object at 0x7f1fc587fa20>\\n1622    <map object at 0x7f1fc587fa20>\\n1623    <map object at 0x7f1fc587fa20>\\n1624    <map object at 0x7f1fc587fa20>\\n1625    <map object at 0x7f1fc587fa20>\\n1626    <map object at 0x7f1fc587fa20>\\n1627    <map object at 0x7f1fc587fa20>\\n1628    <map object at 0x7f1fc587fa20>\\n1629    <map object at 0x7f1fc587fa20>\\n1630    <map object at 0x7f1fc587fa20>\\n1631    <map object at 0x7f1fc587fa20>\\n1632    <map object at 0x7f1fc587fa20>\\n1633    <map object at 0x7f1fc587fa20>\\n1634    <map object at 0x7f1fc587fa20>\\n1635    <map object at 0x7f1fc587fa20>\\n1636    <map object at 0x7f1fc587fa20>\\n1637    <map object at 0x7f1fc587fa20>\\n1638    <map object at 0x7f1fc587fa20>\\n1639    <map object at 0x7f1fc587fa20>\\n1640    <map object at 0x7f1fc587fa20>\\n1641    <map object at 0x7f1fc587fa20>\\n1642    <map object at 0x7f1fc587fa20>\\nName: country, Length: 1643, dtype: object'",
     "output_type": "error",
     "traceback": [
      "\u001b[0;31m---------------------------------------------------------------------------\u001b[0m",
      "\u001b[0;31mValueError\u001b[0m                                Traceback (most recent call last)",
      "\u001b[0;32m<ipython-input-117-4043b701c276>\u001b[0m in \u001b[0;36m<module>\u001b[0;34m()\u001b[0m\n\u001b[1;32m      1\u001b[0m \u001b[0;32mfrom\u001b[0m \u001b[0msklearn\u001b[0m \u001b[0;32mimport\u001b[0m \u001b[0mtree\u001b[0m\u001b[0;34m\u001b[0m\u001b[0;34m\u001b[0m\u001b[0m\n\u001b[1;32m      2\u001b[0m \u001b[0;34m\u001b[0m\u001b[0m\n\u001b[0;32m----> 3\u001b[0;31m \u001b[0my\u001b[0m \u001b[0;34m=\u001b[0m \u001b[0mfloat\u001b[0m\u001b[0;34m(\u001b[0m\u001b[0mstr\u001b[0m\u001b[0;34m(\u001b[0m\u001b[0mtweets\u001b[0m\u001b[0;34m[\u001b[0m\u001b[0;34m\"country\"\u001b[0m\u001b[0;34m]\u001b[0m\u001b[0;34m)\u001b[0m\u001b[0;34m)\u001b[0m\u001b[0;34m\u001b[0m\u001b[0;34m\u001b[0m\u001b[0m\n\u001b[0m\u001b[1;32m      4\u001b[0m \u001b[0mx\u001b[0m \u001b[0;34m=\u001b[0m \u001b[0mfloat\u001b[0m\u001b[0;34m(\u001b[0m\u001b[0mstr\u001b[0m\u001b[0;34m(\u001b[0m\u001b[0mtweets\u001b[0m\u001b[0;34m[\u001b[0m\u001b[0;34m\"followers\"\u001b[0m\u001b[0;34m]\u001b[0m\u001b[0;34m)\u001b[0m\u001b[0;34m)\u001b[0m\u001b[0;34m\u001b[0m\u001b[0;34m\u001b[0m\u001b[0m\n\u001b[1;32m      5\u001b[0m \u001b[0;34m\u001b[0m\u001b[0m\n",
      "\u001b[0;31mValueError\u001b[0m: could not convert string to float: '0       <map object at 0x7f1fc587fa20>\\n1       <map object at 0x7f1fc587fa20>\\n2       <map object at 0x7f1fc587fa20>\\n3       <map object at 0x7f1fc587fa20>\\n4       <map object at 0x7f1fc587fa20>\\n5       <map object at 0x7f1fc587fa20>\\n6       <map object at 0x7f1fc587fa20>\\n7       <map object at 0x7f1fc587fa20>\\n8       <map object at 0x7f1fc587fa20>\\n9       <map object at 0x7f1fc587fa20>\\n10      <map object at 0x7f1fc587fa20>\\n11      <map object at 0x7f1fc587fa20>\\n12      <map object at 0x7f1fc587fa20>\\n13      <map object at 0x7f1fc587fa20>\\n14      <map object at 0x7f1fc587fa20>\\n15      <map object at 0x7f1fc587fa20>\\n16      <map object at 0x7f1fc587fa20>\\n17      <map object at 0x7f1fc587fa20>\\n18      <map object at 0x7f1fc587fa20>\\n19      <map object at 0x7f1fc587fa20>\\n20      <map object at 0x7f1fc587fa20>\\n21      <map object at 0x7f1fc587fa20>\\n22      <map object at 0x7f1fc587fa20>\\n23      <map object at 0x7f1fc587fa20>\\n24      <map object at 0x7f1fc587fa20>\\n25      <map object at 0x7f1fc587fa20>\\n26      <map object at 0x7f1fc587fa20>\\n27      <map object at 0x7f1fc587fa20>\\n28      <map object at 0x7f1fc587fa20>\\n29      <map object at 0x7f1fc587fa20>\\n                     ...              \\n1613    <map object at 0x7f1fc587fa20>\\n1614    <map object at 0x7f1fc587fa20>\\n1615    <map object at 0x7f1fc587fa20>\\n1616    <map object at 0x7f1fc587fa20>\\n1617    <map object at 0x7f1fc587fa20>\\n1618    <map object at 0x7f1fc587fa20>\\n1619    <map object at 0x7f1fc587fa20>\\n1620    <map object at 0x7f1fc587fa20>\\n1621    <map object at 0x7f1fc587fa20>\\n1622    <map object at 0x7f1fc587fa20>\\n1623    <map object at 0x7f1fc587fa20>\\n1624    <map object at 0x7f1fc587fa20>\\n1625    <map object at 0x7f1fc587fa20>\\n1626    <map object at 0x7f1fc587fa20>\\n1627    <map object at 0x7f1fc587fa20>\\n1628    <map object at 0x7f1fc587fa20>\\n1629    <map object at 0x7f1fc587fa20>\\n1630    <map object at 0x7f1fc587fa20>\\n1631    <map object at 0x7f1fc587fa20>\\n1632    <map object at 0x7f1fc587fa20>\\n1633    <map object at 0x7f1fc587fa20>\\n1634    <map object at 0x7f1fc587fa20>\\n1635    <map object at 0x7f1fc587fa20>\\n1636    <map object at 0x7f1fc587fa20>\\n1637    <map object at 0x7f1fc587fa20>\\n1638    <map object at 0x7f1fc587fa20>\\n1639    <map object at 0x7f1fc587fa20>\\n1640    <map object at 0x7f1fc587fa20>\\n1641    <map object at 0x7f1fc587fa20>\\n1642    <map object at 0x7f1fc587fa20>\\nName: country, Length: 1643, dtype: object'"
     ]
    }
   ],
   "source": [
    "from sklearn import tree\n",
    "\n",
    "y = float(str(tweets[\"country\"]))\n",
    "x = float(str(tweets[\"followers\"]))\n",
    "\n",
    "clf = tree.DecisionTreeClassifier()\n",
    "clf = clf.fit(x,y)"
   ]
  },
  {
   "cell_type": "code",
   "execution_count": 118,
   "metadata": {},
   "outputs": [
    {
     "ename": "NameError",
     "evalue": "name 'followers' is not defined",
     "output_type": "error",
     "traceback": [
      "\u001b[0;31m---------------------------------------------------------------------------\u001b[0m",
      "\u001b[0;31mNameError\u001b[0m                                 Traceback (most recent call last)",
      "\u001b[0;32m<ipython-input-118-8690d117be04>\u001b[0m in \u001b[0;36m<module>\u001b[0;34m()\u001b[0m\n\u001b[1;32m      5\u001b[0m \u001b[0mdot_data\u001b[0m \u001b[0;34m=\u001b[0m \u001b[0mStringIO\u001b[0m\u001b[0;34m(\u001b[0m\u001b[0;34m)\u001b[0m\u001b[0;34m\u001b[0m\u001b[0;34m\u001b[0m\u001b[0m\n\u001b[1;32m      6\u001b[0m tree.export_graphviz(clf, out_file=dot_data,  \n\u001b[0;32m----> 7\u001b[0;31m                          feature_names=followers)  \n\u001b[0m\u001b[1;32m      8\u001b[0m \u001b[0mgraph\u001b[0m \u001b[0;34m=\u001b[0m \u001b[0mpydotplus\u001b[0m\u001b[0;34m.\u001b[0m\u001b[0mgraph_from_dot_data\u001b[0m\u001b[0;34m(\u001b[0m\u001b[0mdot_data\u001b[0m\u001b[0;34m.\u001b[0m\u001b[0mgetvalue\u001b[0m\u001b[0;34m(\u001b[0m\u001b[0;34m)\u001b[0m\u001b[0;34m)\u001b[0m\u001b[0;34m\u001b[0m\u001b[0;34m\u001b[0m\u001b[0m\n\u001b[1;32m      9\u001b[0m \u001b[0mImage\u001b[0m\u001b[0;34m(\u001b[0m\u001b[0mgraph\u001b[0m\u001b[0;34m.\u001b[0m\u001b[0mcreate_png\u001b[0m\u001b[0;34m(\u001b[0m\u001b[0;34m)\u001b[0m\u001b[0;34m)\u001b[0m\u001b[0;34m\u001b[0m\u001b[0;34m\u001b[0m\u001b[0m\n",
      "\u001b[0;31mNameError\u001b[0m: name 'followers' is not defined"
     ]
    }
   ],
   "source": [
    "from IPython.display import Image  \n",
    "from sklearn.externals.six import StringIO  \n",
    "import pydotplus\n",
    "\n",
    "dot_data = StringIO()  \n",
    "tree.export_graphviz(clf, out_file=dot_data,  \n",
    "                         feature_names=followers)  \n",
    "graph = pydotplus.graph_from_dot_data(dot_data.getvalue())  \n",
    "Image(graph.create_png())  "
   ]
  },
  {
   "cell_type": "code",
   "execution_count": null,
   "metadata": {},
   "outputs": [],
   "source": []
  },
  {
   "cell_type": "code",
   "execution_count": null,
   "metadata": {},
   "outputs": [],
   "source": []
  }
 ],
 "metadata": {
  "kernelspec": {
   "display_name": "Python 3",
   "language": "python",
   "name": "python3"
  },
  "language_info": {
   "codemirror_mode": {
    "name": "ipython",
    "version": 3
   },
   "file_extension": ".py",
   "mimetype": "text/x-python",
   "name": "python",
   "nbconvert_exporter": "python",
   "pygments_lexer": "ipython3",
   "version": "3.6.8"
  }
 },
 "nbformat": 4,
 "nbformat_minor": 2
}
